{
 "cells": [
  {
   "cell_type": "code",
   "execution_count": 1,
   "metadata": {},
   "outputs": [],
   "source": [
    "import numpy as np\n",
    "from sklearn import datasets\n",
    "import matplotlib.pyplot as plt\n",
    "from scipy.optimize import fmin\n",
    "from tqdm import tqdm\n",
    "from copy import deepcopy\n",
    "from sklearn import datasets\n",
    "from sklearn.metrics import accuracy_score\n",
    "from sklearn.model_selection import train_test_split\n",
    "import pandas as pd\n",
    "%matplotlib inline\n",
    "%config InlineBackend.figure_format = 'retina' "
   ]
  },
  {
   "cell_type": "markdown",
   "metadata": {},
   "source": [
    "### Decision tree"
   ]
  },
  {
   "cell_type": "markdown",
   "metadata": {},
   "source": [
    "### 1 The CART algorithm"
   ]
  },
  {
   "cell_type": "markdown",
   "metadata": {},
   "source": [
    "1. Start at the root node, with all training data in a single group. \n",
    "\n",
    "2. For **each possible value** and for **each feature**, calculate a splitting metric such as the Gini impurity. \n",
    "\n",
    "3. Perform a split of the data into two child nodes based on the split that has the highest impurity.\n",
    "\n",
    "4. Continue until the data cannot be split any further, or a stopping condition is met."
   ]
  },
  {
   "cell_type": "markdown",
   "metadata": {},
   "source": [
    "For the splitting metric, we use the Gini impurity \n",
    "\n",
    "$$ G= \\sum_i^C p(i)(1-p(i)) $$\n",
    "\n",
    "where there are $C$ classes, and $p(i)$ is the probability of picking a data point with class $i$"
   ]
  },
  {
   "cell_type": "markdown",
   "metadata": {},
   "source": [
    "### 2 Decision tree from scratch"
   ]
  },
  {
   "cell_type": "markdown",
   "metadata": {},
   "source": [
    "Now we are going to define some useful helper functions:\n",
    "\n",
    "* `is_numeric` helps us to handle mixed datasets. If the column is numeric, we split by thresholding (e.g. $X$ greater than the threshold value is assigned to the right node, and vice versa). If the column is categorical, we split by equality (e.g. only `X=='elephant'` goes to the right node, all other values to the left node)\n",
    "* `split` performs a split of a given array based on the given threshold\n",
    "* `calculate_best_split` goes through the entire training set, calculating the Gini index for every unique value in every column to find the single data split that yields the greatest information gain\n",
    "* `grow_tree` is a simple recursive function that carries out the decision tree logic\n",
    "    * It creates a hierarchy of `Node`s, each of which has a left and a right node\n",
    "    * Each `Node` has information about its label (which is largely meaningless until the final node is reached), the column to split on and the threshold for splitting\n",
    "    * Both the `Node` and the Gini index are recursively calculated until some stopping criterion is reached. In this case I don't constrain the tree depth and so splitting only stops when there are no more data rows to split. "
   ]
  },
  {
   "cell_type": "code",
   "execution_count": 2,
   "metadata": {},
   "outputs": [],
   "source": [
    "def is_numeric(obj):\n",
    "    '''Helper function to check if an object is numeric.'''\n",
    "    attrs = ['__add__', '__sub__', '__mul__', '__truediv__', '__pow__']\n",
    "    return all(hasattr(obj, attr) for attr in attrs)\n",
    "\n",
    "def split(x, threshold):\n",
    "    '''Splits an array based on threshold.'''    \n",
    "    isNumeric = is_numeric(x)\n",
    "    if isNumeric:\n",
    "        idx = x > threshold\n",
    "    else:\n",
    "        idx = x == threshold\n",
    "    return(idx)"
   ]
  },
  {
   "cell_type": "code",
   "execution_count": 3,
   "metadata": {},
   "outputs": [],
   "source": [
    "def calculate_best_split(X, y):\n",
    "\n",
    "    '''\n",
    "    Given a dataset and its target values, finds the best possible split.\n",
    "    '''\n",
    "\n",
    "    if len(y) <= 1:\n",
    "        return None, None\n",
    "\n",
    "    best_gini, best_column, best_val = np.inf, np.inf, np.inf\n",
    "\n",
    "    for i in range(X.shape[1]): # 1. For each feature (column)...\n",
    "        unique_values = np.unique(X[:,i])\n",
    "\n",
    "        for val in unique_values: # 2. and for each unique value in the feature...\n",
    "\n",
    "            query_right = y[np.argwhere(split(X[:,i], val)).reshape(1,-1)[0]]        \n",
    "            query_left = y[np.argwhere(~split(X[:,i], val)).reshape(1,-1)[0]]\n",
    "            gini_right = 1 - np.sum([(query_right.tolist().count(i)/len(query_right))**2 for i in np.unique(query_right)])\n",
    "            gini_left = 1 - np.sum([(query_left.tolist().count(i)/len(query_left))**2 for i in np.unique(query_left)])        \n",
    "\n",
    "            # 3. Calculate the CART cost function from weighted Gini values arising from the split\n",
    "            gini_index = len(query_left)/len(y) * gini_left + len(query_right)/len(y) * gini_right\n",
    "\n",
    "            # 4. Record the best split\n",
    "            if gini_index < best_gini:\n",
    "                best_gini = gini_index\n",
    "                best_column = i\n",
    "                best_val = val\n",
    "\n",
    "    return (best_column, best_val)\n",
    "\n",
    "\n"
   ]
  },
  {
   "cell_type": "markdown",
   "metadata": {},
   "source": [
    "Now we can recursively split the dataset. To show how it works we will first do this manually."
   ]
  },
  {
   "cell_type": "code",
   "execution_count": 4,
   "metadata": {},
   "outputs": [],
   "source": [
    "def split_data(X, y, column, threshold):\n",
    "    '''Takes best split parameters and splits the data according to it'''\n",
    "    \n",
    "    if is_numeric(threshold):\n",
    "        left_idx = np.argwhere(X[:,column] <= threshold).reshape(1,-1)[0]\n",
    "        right_idx = np.argwhere(X[:,column] > threshold).reshape(1,-1)[0]\n",
    "        X_left = X[left_idx,:]\n",
    "        X_right = X[right_idx,:]\n",
    "        y_left = y[left_idx]\n",
    "        y_right = y[right_idx]\n",
    "    else:\n",
    "        left_idx = np.argwhere(X[:,column] != threshold).reshape(1,-1)[0]\n",
    "        right_idx = np.argwhere(X[:,column] == threshold).reshape(1,-1)[0]\n",
    "        X_left = X[left_idx,:]\n",
    "        X_right = X[right_idx,:]\n",
    "        y_left = y[left_idx]\n",
    "        y_right = y[right_idx]\n",
    "\n",
    "    return(X_left, X_right, y_left, y_right)\n",
    "        "
   ]
  },
  {
   "cell_type": "code",
   "execution_count": 5,
   "metadata": {},
   "outputs": [],
   "source": [
    "class Node:\n",
    "    def __init__(self, label):\n",
    "        self.label = label\n",
    "        self.column = np.nan\n",
    "        self.threshold = np.nan\n",
    "        self.left = None\n",
    "        self.right = None\n",
    "\n",
    "def grow_tree(X,y, num_classes=2):\n",
    "    samples_per_class = [np.sum(y==i) for i in range(num_classes)]\n",
    "    designated_label = np.argmax(samples_per_class)\n",
    "    node = Node(label=designated_label)\n",
    "    node.column, node.threshold = calculate_best_split(X, y)\n",
    "    if node.column is not None:        \n",
    "        X_left, X_right, y_left, y_right = split_data(X,y, node.column, node.threshold)  \n",
    "        if len(y_left) > 1 and len(y_right) > 1:\n",
    "            node.left = grow_tree(X_left, y_left)\n",
    "            node.right = grow_tree(X_right, y_right)\n",
    "    return(node)"
   ]
  },
  {
   "cell_type": "markdown",
   "metadata": {},
   "source": [
    "Now we test this function on the breast cancer dataset (which is split into train and test sets)."
   ]
  },
  {
   "cell_type": "code",
   "execution_count": 46,
   "metadata": {},
   "outputs": [],
   "source": [
    "dataset = datasets.load_breast_cancer()\n",
    "X = dataset.data\n",
    "y = dataset.target\n",
    "X_train, X_test, y_train, y_test = train_test_split(X,y)"
   ]
  },
  {
   "cell_type": "code",
   "execution_count": 47,
   "metadata": {},
   "outputs": [
    {
     "name": "stdout",
     "output_type": "stream",
     "text": [
      "Predicted 1 Actual 1\n"
     ]
    }
   ],
   "source": [
    "node = grow_tree(X_train, y_train, num_classes=len(set(y_train)))\n",
    "\n",
    "selected_idx = 29\n",
    "input = X_test[selected_idx]\n",
    "\n",
    "while node.right:\n",
    "    if is_numeric(node.threshold):\n",
    "        if input[node.column] > node.threshold:\n",
    "            node = node.right\n",
    "        else:\n",
    "            node = node.left\n",
    "    else:\n",
    "        if input[node.column] == node.threshold:\n",
    "            node = node.right\n",
    "        else:\n",
    "            node = node.left\n",
    "\n",
    "print(\"Predicted\", node.label, \"Actual\", y_test[selected_idx])"
   ]
  },
  {
   "cell_type": "markdown",
   "metadata": {},
   "source": [
    "### 3 Packaged version of the decision tree\n",
    "\n",
    "This seems to work, but it would be helpful to put the classifier in a single reusable object that we can call training and inference functions on demand. The class here is written in a Scikit-learn-esque style\n",
    "\n",
    "* A `predict` function takes in the training data and targets\n",
    "* A `fit` function allows the fitted model to make predictions on unseen data, that is, the test dataset\n",
    "\n"
   ]
  },
  {
   "cell_type": "code",
   "execution_count": 39,
   "metadata": {},
   "outputs": [],
   "source": [
    "class Node:\n",
    "    def __init__(self, label):\n",
    "        self.label = label\n",
    "        self.column = np.nan\n",
    "        self.threshold = np.nan\n",
    "        self.left = None\n",
    "        self.right = None\n",
    "\n",
    "class DecisionTree:\n",
    "    def __init__(self):\n",
    "        pass\n",
    "\n",
    "    def grow_tree(self, X, y, num_classes=3):\n",
    "        samples_per_class = [np.sum(y==i) for i in range(num_classes)]\n",
    "        designated_label = np.argmax(samples_per_class)\n",
    "        node = Node(label=designated_label)\n",
    "        node.column, node.threshold = DecisionTree.calculate_best_split(X, y)\n",
    "        if node.column is not None:        \n",
    "            X_left, X_right, y_left, y_right = DecisionTree.split_data(X,y, node.column, node.threshold)  \n",
    "            if len(y_left) > 1 and len(y_right) > 1:\n",
    "                node.left = self.grow_tree(X_left, y_left)\n",
    "                node.right = self.grow_tree(X_right, y_right)\n",
    "        return(node)\n",
    "\n",
    "    @staticmethod\n",
    "    def is_numeric(obj):\n",
    "        '''Helper function to check if an object is numeric.'''\n",
    "        attrs = ['__add__', '__sub__', '__mul__', '__truediv__', '__pow__']\n",
    "        return all(hasattr(obj, attr) for attr in attrs)\n",
    "\n",
    "    @staticmethod\n",
    "    def split(x, threshold):\n",
    "        '''Splits an array based on threshold.'''    \n",
    "        isNumeric = DecisionTree.is_numeric(x)\n",
    "        if isNumeric:\n",
    "            idx = x > threshold\n",
    "        else:\n",
    "            idx = x == threshold\n",
    "        return(idx)     \n",
    "\n",
    "    @staticmethod\n",
    "    def calculate_best_split(X, y):\n",
    "\n",
    "        '''\n",
    "        Given a dataset and its target values, finds the best possible split.\n",
    "        '''\n",
    "\n",
    "        if len(y) <= 1:\n",
    "            return None, None\n",
    "\n",
    "        best_gini, best_column, best_val = np.inf, np.inf, np.inf\n",
    "\n",
    "        for i in range(X.shape[1]): # 1. For each feature (column)...\n",
    "            unique_values = np.unique(X[:,i])\n",
    "\n",
    "            for val in unique_values: # 2. and for each unique value in the feature...\n",
    "\n",
    "                query_right = y[np.argwhere(split(X[:,i], val)).reshape(1,-1)[0]]        \n",
    "                query_left = y[np.argwhere(~split(X[:,i], val)).reshape(1,-1)[0]]\n",
    "                gini_right = 1 - np.sum([(query_right.tolist().count(i)/len(query_right))**2 for i in np.unique(query_right)])\n",
    "                gini_left = 1 - np.sum([(query_left.tolist().count(i)/len(query_left))**2 for i in np.unique(query_left)])        \n",
    "\n",
    "                # 3. Calculate the CART cost function from weighted Gini values arising from the split\n",
    "                gini_index = len(query_left)/len(y) * gini_left + len(query_right)/len(y) * gini_right\n",
    "\n",
    "                # 4. Record the best split\n",
    "                if gini_index < best_gini:\n",
    "                    best_gini = gini_index\n",
    "                    best_column = i\n",
    "                    best_val = val\n",
    "\n",
    "        return (best_column, best_val)\n",
    "\n",
    "    @staticmethod\n",
    "    def split_data(X, y, column, threshold):\n",
    "        '''Takes best split parameters and splits the data according to it'''\n",
    "        \n",
    "        if is_numeric(threshold):\n",
    "            left_idx = np.argwhere(X[:,column] <= threshold).reshape(1,-1)[0]\n",
    "            right_idx = np.argwhere(X[:,column] > threshold).reshape(1,-1)[0]\n",
    "            X_left = X[left_idx,:]\n",
    "            X_right = X[right_idx,:]\n",
    "            y_left = y[left_idx]\n",
    "            y_right = y[right_idx]\n",
    "        else:\n",
    "            left_idx = np.argwhere(X[:,column] != threshold).reshape(1,-1)[0]\n",
    "            right_idx = np.argwhere(X[:,column] == threshold).reshape(1,-1)[0]\n",
    "            X_left = X[left_idx,:]\n",
    "            X_right = X[right_idx,:]\n",
    "            y_left = y[left_idx]\n",
    "            y_right = y[right_idx]\n",
    "\n",
    "        return(X_left, X_right, y_left, y_right)\n",
    "\n",
    "    def fit(self, X, y):\n",
    "        number_of_classes = len(set(y))\n",
    "        self.tree = self.grow_tree(X, y, number_of_classes)\n",
    "\n",
    "    def predict(self, X_in):\n",
    "        predictions = []\n",
    "        for x in X_in:\n",
    "            node = self.tree\n",
    "            while node.right:\n",
    "                if DecisionTree.is_numeric(node.threshold):\n",
    "                    if x[node.column] > node.threshold:\n",
    "                        node = node.right\n",
    "                    else:\n",
    "                        node = node.left\n",
    "                else:\n",
    "                    if x[node.column] == node.threshold:\n",
    "                        node = node.right\n",
    "                    else:\n",
    "                        node = node.left\n",
    "            predictions.append(node.label)\n",
    "        return(predictions)\n",
    "\n",
    "        "
   ]
  },
  {
   "cell_type": "code",
   "execution_count": 49,
   "metadata": {},
   "outputs": [],
   "source": [
    "dataset = datasets.load_breast_cancer()\n",
    "X = dataset.data\n",
    "y = dataset.target\n",
    "X_train, X_test, y_train, y_test = train_test_split(X,y)\n",
    "\n",
    "dt = DecisionTree()\n",
    "dt.fit(X_train, y_train)"
   ]
  },
  {
   "cell_type": "code",
   "execution_count": 50,
   "metadata": {},
   "outputs": [],
   "source": [
    "y_preds = dt.predict(X_test)"
   ]
  },
  {
   "cell_type": "code",
   "execution_count": 51,
   "metadata": {},
   "outputs": [
    {
     "name": "stderr",
     "output_type": "stream",
     "text": [
      "<ipython-input-51-534f54708c99>:6: UserWarning: FixedFormatter should only be used together with FixedLocator\n",
      "  ax.set_yticklabels(labels);\n"
     ]
    },
    {
     "data": {
      "image/png": "[encoded data removed]",
      "text/plain": [
       "<Figure size 864x432 with 1 Axes>"
      ]
     },
     "metadata": {
      "image/png": {
       "height": 76,
       "width": 738
      },
      "needs_background": "light"
     },
     "output_type": "display_data"
    }
   ],
   "source": [
    "fig,ax = plt.subplots(figsize=(12,6))\n",
    "ax.matshow([y_test[0:50], y_preds[0:50]])\n",
    "labels = [item.get_text() for item in ax.get_yticklabels()]\n",
    "labels[1] = 'truth'\n",
    "labels[2] = 'predicted'\n",
    "ax.set_yticklabels(labels);\n",
    "ax.set_title('Decision tree classifier, accuracy %.2f' % (accuracy_score(y_preds, y_test)));"
   ]
  },
  {
   "cell_type": "markdown",
   "metadata": {},
   "source": [
    "The performance is quite decent - approximately 90% accuracy. "
   ]
  }
 ],
 "metadata": {
  "interpreter": {
   "hash": "9b8533ae227778918201dc0950c8c381d2628c94b068679fb6763343850aea12"
  },
  "kernelspec": {
   "display_name": "Python 3.9.1 ('base')",
   "language": "python",
   "name": "python3"
  },
  "language_info": {
   "codemirror_mode": {
    "name": "ipython",
    "version": 3
   },
   "file_extension": ".py",
   "mimetype": "text/x-python",
   "name": "python",
   "nbconvert_exporter": "python",
   "pygments_lexer": "ipython3",
   "version": "3.9.1"
  },
  "orig_nbformat": 4
 },
 "nbformat": 4,
 "nbformat_minor": 2
}
